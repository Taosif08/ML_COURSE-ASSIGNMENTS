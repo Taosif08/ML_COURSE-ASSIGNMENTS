{
 "cells": [
  {
   "cell_type": "code",
   "execution_count": 2,
   "metadata": {},
   "outputs": [
    {
     "name": "stdout",
     "output_type": "stream",
     "text": [
      "7\n"
     ]
    }
   ],
   "source": [
    "print(5+2)"
   ]
  },
  {
   "cell_type": "code",
   "execution_count": 3,
   "metadata": {},
   "outputs": [
    {
     "data": {
      "text/plain": [
       "7"
      ]
     },
     "execution_count": 3,
     "metadata": {},
     "output_type": "execute_result"
    }
   ],
   "source": [
    "5+2"
   ]
  },
  {
   "attachments": {},
   "cell_type": "markdown",
   "metadata": {},
   "source": [
    "1. swapping "
   ]
  },
  {
   "cell_type": "code",
   "execution_count": 2,
   "metadata": {},
   "outputs": [
    {
     "name": "stdout",
     "output_type": "stream",
     "text": [
      "After swapping\n",
      "x: 2 \n",
      "y: 4\n"
     ]
    }
   ],
   "source": [
    "x = int(input())\n",
    "y = int(input())\n",
    "\n",
    "x,y = y,x\n",
    "\n",
    "print(\"After swapping\\nx:\",x,\"\\ny:\",y)\n"
   ]
  },
  {
   "attachments": {},
   "cell_type": "markdown",
   "metadata": {},
   "source": [
    "2.calculates the area of a rectangle given its length and width. "
   ]
  },
  {
   "cell_type": "code",
   "execution_count": 5,
   "metadata": {},
   "outputs": [
    {
     "name": "stdout",
     "output_type": "stream",
     "text": [
      "a: 3.0 \n",
      "b: 5.0 \n",
      "Area of a rectangle: 7.5\n"
     ]
    }
   ],
   "source": [
    "a = float(input())\n",
    "b = float(input())\n",
    "\n",
    "c= 0.5*a*b\n",
    "\n",
    "print(\"a:\",a,\"\\nb:\",b,\"\\nArea of a rectangle:\",c)\n"
   ]
  },
  {
   "attachments": {},
   "cell_type": "markdown",
   "metadata": {},
   "source": [
    "3.Converts temperature from Fahrenheit to Celsius."
   ]
  },
  {
   "cell_type": "code",
   "execution_count": 8,
   "metadata": {},
   "outputs": [
    {
     "name": "stdout",
     "output_type": "stream",
     "text": [
      "Fahrenheit: 75.0 \n",
      "from Fahrenheit to Celsius: 23.89\n"
     ]
    }
   ],
   "source": [
    "F = float(input())\n",
    "\n",
    "C= (F-32)* 5/9\n",
    "C = round(C,2)\n",
    "print(\"Fahrenheit:\",F,\"\\nfrom Fahrenheit to Celsius:\",C)"
   ]
  },
  {
   "attachments": {},
   "cell_type": "markdown",
   "metadata": {},
   "source": [
    "4. Calculates the volume of a sphere given its radius. "
   ]
  },
  {
   "cell_type": "code",
   "execution_count": 14,
   "metadata": {},
   "outputs": [
    {
     "name": "stdout",
     "output_type": "stream",
     "text": [
      "r: 4.0 \n",
      "Volume of a sphere: 268.08\n"
     ]
    }
   ],
   "source": [
    "import math\n",
    "\n",
    "r= float(input())\n",
    "\n",
    "V = (4/3)*math.pi*r**3\n",
    "\n",
    "V= round(V,2)\n",
    "\n",
    "print(\"r:\",r,\"\\nVolume of a sphere:\",V)\n",
    "\n"
   ]
  },
  {
   "attachments": {},
   "cell_type": "markdown",
   "metadata": {},
   "source": [
    "5. Average of three numbers\n"
   ]
  },
  {
   "cell_type": "code",
   "execution_count": 16,
   "metadata": {},
   "outputs": [
    {
     "name": "stdout",
     "output_type": "stream",
     "text": [
      "x1: 12 \n",
      "x2: 15 \n",
      "x3: 18 \n",
      "Average of three numbers: 15.0\n"
     ]
    }
   ],
   "source": [
    "x1 = int(input())\n",
    "x2 = int(input())\n",
    "x3 = int(input())\n",
    "\n",
    "Avg = (x1+x2+x3)/3\n",
    "\n",
    "print(\"x1:\",x1,\"\\nx2:\",x2,\"\\nx3:\",x3,\"\\nAverage of three numbers:\",Avg)"
   ]
  },
  {
   "attachments": {},
   "cell_type": "markdown",
   "metadata": {},
   "source": [
    "6.If a number is even or odd."
   ]
  },
  {
   "cell_type": "code",
   "execution_count": 3,
   "metadata": {},
   "outputs": [
    {
     "name": "stdout",
     "output_type": "stream",
     "text": [
      "Odd\n"
     ]
    }
   ],
   "source": [
    "x = int(input())\n",
    "\n",
    "if(x%2==0):\n",
    "    print(\"Even\")\n",
    "else:\n",
    "    print(\"Odd\")"
   ]
  },
  {
   "attachments": {},
   "cell_type": "markdown",
   "metadata": {},
   "source": [
    "7. Finds the maximum of three numbers. "
   ]
  },
  {
   "cell_type": "code",
   "execution_count": 10,
   "metadata": {},
   "outputs": [
    {
     "name": "stdout",
     "output_type": "stream",
     "text": [
      "Max Number 9\n"
     ]
    }
   ],
   "source": [
    "x1 = int(input())\n",
    "x2 = int(input())\n",
    "x3 = int(input())\n",
    "\n",
    "max=0\n",
    "\n",
    "if(x1>=x2):\n",
    "    max=x1\n",
    "elif(x2>=x3):\n",
    "    max=x2\n",
    "else:\n",
    "    max=x3\n",
    "\n",
    "print(\"Max Number\",max)\n"
   ]
  },
  {
   "attachments": {},
   "cell_type": "markdown",
   "metadata": {},
   "source": [
    "8. If a year is a leap year or not. "
   ]
  },
  {
   "cell_type": "code",
   "execution_count": 15,
   "metadata": {},
   "outputs": [
    {
     "name": "stdout",
     "output_type": "stream",
     "text": [
      "Leap Year\n"
     ]
    }
   ],
   "source": [
    "year = int(input())\n",
    "\n",
    "if(year%4==0 and year%100 != 0 or year%400==0  ):\n",
    "    print(\"Leap Year\")\n",
    "else:\n",
    "    print(\"Not Leap Year\")"
   ]
  },
  {
   "cell_type": "markdown",
   "metadata": {},
   "source": [
    "9. If a number is positive, negative, or zero. "
   ]
  },
  {
   "cell_type": "code",
   "execution_count": 3,
   "metadata": {},
   "outputs": [
    {
     "name": "stdout",
     "output_type": "stream",
     "text": [
      "Positive\n"
     ]
    }
   ],
   "source": [
    "x= int(input())\n",
    "\n",
    "if(x==0):\n",
    "    print(\"Zero\")\n",
    "elif(x>0):\n",
    "    print(\"Positive\")\n",
    "else:\n",
    "    print(\"Negative\")"
   ]
  },
  {
   "cell_type": "markdown",
   "metadata": {},
   "source": [
    "10. Calculates the grade based on a given percentage."
   ]
  },
  {
   "cell_type": "code",
   "execution_count": 9,
   "metadata": {},
   "outputs": [
    {
     "name": "stdout",
     "output_type": "stream",
     "text": [
      "Grade:F\n"
     ]
    }
   ],
   "source": [
    "x= int(input())\n",
    "\n",
    "if(x<40):\n",
    "    print(\"Grade:F\")\n",
    "elif(x>=40 and x<50):\n",
    "    print(\"Grade:D\")\n",
    "elif(x>=50 and x<60):\n",
    "    print(\"Grade:C\")\n",
    "elif(x>=60 and x<70):\n",
    "    print(\"Grade:B\")\n",
    "elif(x>=70 and x<80):\n",
    "    print(\"Grade:A\")\n",
    "else:\n",
    "    print(\"Grade:A+\")"
   ]
  },
  {
   "cell_type": "markdown",
   "metadata": {},
   "source": [
    "11. The first `n` natural numbers"
   ]
  },
  {
   "cell_type": "code",
   "execution_count": 15,
   "metadata": {},
   "outputs": [
    {
     "name": "stdout",
     "output_type": "stream",
     "text": [
      "1\n",
      "2\n",
      "3\n",
      "4\n",
      "5\n"
     ]
    }
   ],
   "source": [
    "n = int(input())\n",
    "\n",
    "for i in range(n):\n",
    "    print(i+1)"
   ]
  },
  {
   "cell_type": "markdown",
   "metadata": {},
   "source": [
    "12. Factorial of a number. "
   ]
  },
  {
   "cell_type": "code",
   "execution_count": 16,
   "metadata": {},
   "outputs": [
    {
     "name": "stdout",
     "output_type": "stream",
     "text": [
      "factorial of 5 is: 120\n"
     ]
    }
   ],
   "source": [
    "n = int(input())\n",
    "fact=1\n",
    "if(n>=1):\n",
    "  for i in range(1,n+1):\n",
    "      fact = fact*i\n",
    "print(\"factorial of\",n,\"is:\",fact)    "
   ]
  },
  {
   "cell_type": "markdown",
   "metadata": {},
   "source": [
    "13. A Fibonacci sequence of length `n`."
   ]
  },
  {
   "cell_type": "code",
   "execution_count": 24,
   "metadata": {},
   "outputs": [
    {
     "name": "stdout",
     "output_type": "stream",
     "text": [
      "0\n",
      "1\n",
      "1\n",
      "2\n",
      "3\n",
      "5\n"
     ]
    }
   ],
   "source": [
    "n= int(input())\n",
    "\n",
    "\n",
    "x1=0\n",
    "x2=1\n",
    "\n",
    "for i in range(n):\n",
    "    print(x1)\n",
    "    xth=x1+x2\n",
    "    x1=x2\n",
    "    x2=xth\n",
    "    "
   ]
  },
  {
   "cell_type": "markdown",
   "metadata": {},
   "source": [
    "14. If a given number is prime or not. "
   ]
  },
  {
   "cell_type": "code",
   "execution_count": 31,
   "metadata": {},
   "outputs": [
    {
     "name": "stdout",
     "output_type": "stream",
     "text": [
      "Not Prime Number\n"
     ]
    }
   ],
   "source": [
    "n= int(input())\n",
    "f=False\n",
    "\n",
    "if(n==0 or n==1):\n",
    "    f=True\n",
    "\n",
    "else:\n",
    "    for i in range(2,n):\n",
    "        if(n%i==0):\n",
    "            f=True\n",
    "            break\n",
    "\n",
    "if(f==True):\n",
    "    print(\"Not Prime Number\")\n",
    "else:\n",
    "    print(\"Prime Number\")\n",
    "\n",
    "        "
   ]
  },
  {
   "cell_type": "markdown",
   "metadata": {},
   "source": [
    "15. Multiplication table of a given number."
   ]
  },
  {
   "cell_type": "code",
   "execution_count": 36,
   "metadata": {},
   "outputs": [
    {
     "name": "stdout",
     "output_type": "stream",
     "text": [
      "5 x 1 = 5\n",
      "5 x 2 = 10\n",
      "5 x 3 = 15\n",
      "5 x 4 = 20\n",
      "5 x 5 = 25\n",
      "5 x 6 = 30\n",
      "5 x 7 = 35\n",
      "5 x 8 = 40\n",
      "5 x 9 = 45\n",
      "5 x 10 = 50\n"
     ]
    }
   ],
   "source": [
    "n= int(input())\n",
    "\n",
    "M=1\n",
    "\n",
    "for i in range(1,11):\n",
    "    M=n*i\n",
    "    print(n,\"x\",i,\"=\",M)\n"
   ]
  },
  {
   "cell_type": "markdown",
   "metadata": {},
   "source": [
    "16. Sum of all even numbers between 1 and `n`."
   ]
  },
  {
   "cell_type": "code",
   "execution_count": 41,
   "metadata": {},
   "outputs": [
    {
     "name": "stdout",
     "output_type": "stream",
     "text": [
      "30\n"
     ]
    }
   ],
   "source": [
    "n=int(input())\n",
    "Sum=0\n",
    "while n>0:\n",
    "    if(n%2==0):\n",
    "        Sum=Sum+n\n",
    "    n=n-1\n",
    "print(Sum)"
   ]
  },
  {
   "cell_type": "markdown",
   "metadata": {},
   "source": [
    " 17. Reverses a given number. "
   ]
  },
  {
   "cell_type": "code",
   "execution_count": 47,
   "metadata": {},
   "outputs": [
    {
     "name": "stdout",
     "output_type": "stream",
     "text": [
      "5432\n"
     ]
    }
   ],
   "source": [
    "n=int(input())\n",
    "rev=0\n",
    "while n>0:\n",
    "    r=n%10\n",
    "    rev=rev*10+r\n",
    "    n=n//10\n",
    "print(rev)"
   ]
  },
  {
   "cell_type": "markdown",
   "metadata": {},
   "source": [
    "18. Checks if a given string, is a palindrome. "
   ]
  },
  {
   "cell_type": "code",
   "execution_count": 54,
   "metadata": {},
   "outputs": [
    {
     "name": "stdout",
     "output_type": "stream",
     "text": [
      "palindrome\n"
     ]
    }
   ],
   "source": [
    "n=input().lower()\n",
    "\n",
    "while n!=0:\n",
    "    if(n==n[::-1]):\n",
    "        print(\"palindrome\")\n",
    "        break\n",
    "    else:\n",
    "        print(\"Not Palindrome\")\n",
    "        break\n"
   ]
  },
  {
   "cell_type": "markdown",
   "metadata": {},
   "source": [
    "19. Generates a random number and allows the user to guess it"
   ]
  },
  {
   "cell_type": "code",
   "execution_count": 61,
   "metadata": {},
   "outputs": [
    {
     "name": "stdout",
     "output_type": "stream",
     "text": [
      "Guess Smaller number\n",
      "Guess Smaller number\n",
      "Guess Bigger number\n",
      "Guess Bigger number\n",
      "Guess Bigger number\n",
      "Guess Bigger number\n",
      "Guess Bigger number\n",
      "Guess Bigger number\n",
      "Guess Bigger number\n",
      "Guess Bigger number\n",
      "Guess Bigger number\n",
      "Guess Bigger number\n",
      "Guess Bigger number\n",
      "Guess Bigger number\n",
      "Guess Bigger number\n",
      "Right Guess on 16 th attempt\n"
     ]
    }
   ],
   "source": [
    "import random\n",
    "n= random.randint(1,20)\n",
    "\n",
    "m= int(input())\n",
    "i=1\n",
    "while n!=m:\n",
    "    if(n>m):\n",
    "        print(\"Guess Bigger number\")\n",
    "    else:\n",
    "        print(\"Guess Smaller number\")\n",
    "    m= int(input())\n",
    "    i+=1\n",
    "print(\"Right Guess on\",i,\"th attempt\")"
   ]
  },
  {
   "cell_type": "markdown",
   "metadata": {},
   "source": [
    "20. Finds the greatest common divisor (GCD) of two numbers"
   ]
  },
  {
   "cell_type": "code",
   "execution_count": 62,
   "metadata": {},
   "outputs": [
    {
     "name": "stdout",
     "output_type": "stream",
     "text": [
      "GCD: 12\n"
     ]
    }
   ],
   "source": [
    "x1= int(input())\n",
    "x2= int(input())\n",
    "\n",
    "while(x1!=x2):\n",
    "    if x1>x2:\n",
    "        x1-=x2\n",
    "    else:\n",
    "        x2-=x1\n",
    "print(\"GCD:\",x1)"
   ]
  }
 ],
 "metadata": {
  "kernelspec": {
   "display_name": "Python 3",
   "language": "python",
   "name": "python3"
  },
  "language_info": {
   "codemirror_mode": {
    "name": "ipython",
    "version": 3
   },
   "file_extension": ".py",
   "mimetype": "text/x-python",
   "name": "python",
   "nbconvert_exporter": "python",
   "pygments_lexer": "ipython3",
   "version": "3.12.5"
  },
  "orig_nbformat": 4,
  "vscode": {
   "interpreter": {
    "hash": "16e3eb74bd1d57b0f0d2171d45feda1d82a8e5cee228355163fb6f4fa738ecc3"
   }
  }
 },
 "nbformat": 4,
 "nbformat_minor": 2
}
