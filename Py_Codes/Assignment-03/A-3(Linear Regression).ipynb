{
 "cells": [
  {
   "cell_type": "code",
   "execution_count": null,
   "id": "023dbce2-34f3-48a5-8efc-68855df2b3b8",
   "metadata": {},
   "outputs": [],
   "source": [
    "#/*Task-01*/"
   ]
  },
  {
   "cell_type": "code",
   "execution_count": 1,
   "id": "2f1d150f-7f49-4a01-9561-c23397917c20",
   "metadata": {},
   "outputs": [],
   "source": [
    "import pandas as pd\n",
    "import numpy as np\n",
    "from sklearn.linear_model import LinearRegression"
   ]
  },
  {
   "cell_type": "code",
   "execution_count": 3,
   "id": "d5d1e42b-fa46-4fe3-b6e8-9b3f18732d91",
   "metadata": {},
   "outputs": [],
   "source": [
    "x = np.array([2,4,5,3,6,5,7])\n",
    "y = np.array([35,60,20,50,50,55,60])"
   ]
  },
  {
   "cell_type": "code",
   "execution_count": 5,
   "id": "cf8dc3d6-3087-40b9-9d11-5de7664c61dc",
   "metadata": {},
   "outputs": [
    {
     "data": {
      "text/html": [
       "<div>\n",
       "<style scoped>\n",
       "    .dataframe tbody tr th:only-of-type {\n",
       "        vertical-align: middle;\n",
       "    }\n",
       "\n",
       "    .dataframe tbody tr th {\n",
       "        vertical-align: top;\n",
       "    }\n",
       "\n",
       "    .dataframe thead th {\n",
       "        text-align: right;\n",
       "    }\n",
       "</style>\n",
       "<table border=\"1\" class=\"dataframe\">\n",
       "  <thead>\n",
       "    <tr style=\"text-align: right;\">\n",
       "      <th></th>\n",
       "      <th>x</th>\n",
       "      <th>y</th>\n",
       "    </tr>\n",
       "  </thead>\n",
       "  <tbody>\n",
       "    <tr>\n",
       "      <th>0</th>\n",
       "      <td>2</td>\n",
       "      <td>35</td>\n",
       "    </tr>\n",
       "    <tr>\n",
       "      <th>1</th>\n",
       "      <td>4</td>\n",
       "      <td>60</td>\n",
       "    </tr>\n",
       "    <tr>\n",
       "      <th>2</th>\n",
       "      <td>5</td>\n",
       "      <td>20</td>\n",
       "    </tr>\n",
       "    <tr>\n",
       "      <th>3</th>\n",
       "      <td>3</td>\n",
       "      <td>50</td>\n",
       "    </tr>\n",
       "    <tr>\n",
       "      <th>4</th>\n",
       "      <td>6</td>\n",
       "      <td>50</td>\n",
       "    </tr>\n",
       "    <tr>\n",
       "      <th>5</th>\n",
       "      <td>5</td>\n",
       "      <td>55</td>\n",
       "    </tr>\n",
       "    <tr>\n",
       "      <th>6</th>\n",
       "      <td>7</td>\n",
       "      <td>60</td>\n",
       "    </tr>\n",
       "  </tbody>\n",
       "</table>\n",
       "</div>"
      ],
      "text/plain": [
       "   x   y\n",
       "0  2  35\n",
       "1  4  60\n",
       "2  5  20\n",
       "3  3  50\n",
       "4  6  50\n",
       "5  5  55\n",
       "6  7  60"
      ]
     },
     "execution_count": 5,
     "metadata": {},
     "output_type": "execute_result"
    }
   ],
   "source": [
    "df = pd.DataFrame({'x':x,'y':y})\n",
    "df"
   ]
  },
  {
   "cell_type": "code",
   "execution_count": 25,
   "id": "94522376-3e23-4bf8-8447-bc1ea4ba834f",
   "metadata": {},
   "outputs": [],
   "source": [
    "X=df[['x']]\n",
    "y=df['y']"
   ]
  },
  {
   "cell_type": "code",
   "execution_count": 9,
   "id": "366adf17-948b-4932-bedb-44c8340d7fec",
   "metadata": {},
   "outputs": [
    {
     "data": {
      "text/plain": [
       "32"
      ]
     },
     "execution_count": 9,
     "metadata": {},
     "output_type": "execute_result"
    }
   ],
   "source": [
    "sum_x = np.sum(x)\n",
    "sum_x"
   ]
  },
  {
   "cell_type": "code",
   "execution_count": 13,
   "id": "576b44bc-c71d-4575-b387-fb01ab416f04",
   "metadata": {},
   "outputs": [
    {
     "data": {
      "text/plain": [
       "330"
      ]
     },
     "execution_count": 13,
     "metadata": {},
     "output_type": "execute_result"
    }
   ],
   "source": [
    "sum_y = np.sum(y)\n",
    "sum_y"
   ]
  },
  {
   "cell_type": "code",
   "execution_count": 15,
   "id": "6be64f12-c068-4b92-9482-68b0a891b504",
   "metadata": {},
   "outputs": [
    {
     "data": {
      "text/plain": [
       "1555"
      ]
     },
     "execution_count": 15,
     "metadata": {},
     "output_type": "execute_result"
    }
   ],
   "source": [
    "sum_xy = np.sum(x*y)\n",
    "sum_xy\n"
   ]
  },
  {
   "cell_type": "code",
   "execution_count": 17,
   "id": "427374a7-3b7a-49fd-90fe-99f1da490d0f",
   "metadata": {},
   "outputs": [
    {
     "data": {
      "text/plain": [
       "164"
      ]
     },
     "execution_count": 17,
     "metadata": {},
     "output_type": "execute_result"
    }
   ],
   "source": [
    "sum_x2 = np.sum(x**2)\n",
    "sum_x2"
   ]
  },
  {
   "cell_type": "code",
   "execution_count": 19,
   "id": "e8d2dbf5-4e3a-4b79-9fbb-4fe2d224d16a",
   "metadata": {},
   "outputs": [
    {
     "data": {
      "text/plain": [
       "7"
      ]
     },
     "execution_count": 19,
     "metadata": {},
     "output_type": "execute_result"
    }
   ],
   "source": [
    "n = len(x)\n",
    "n"
   ]
  },
  {
   "cell_type": "code",
   "execution_count": 23,
   "id": "26545895-0e8a-420e-b9e1-0f3fa775f1ca",
   "metadata": {},
   "outputs": [
    {
     "name": "stdout",
     "output_type": "stream",
     "text": [
      "2.62\n"
     ]
    }
   ],
   "source": [
    "m = ((n*sum_xy - sum_x*sum_y)/(n*sum_x2- sum_x**2))\n",
    "m\n",
    "print(round(m,2))"
   ]
  },
  {
   "cell_type": "code",
   "execution_count": 29,
   "id": "d3b2ae70-04bb-4830-90a3-0ea2577f282a",
   "metadata": {},
   "outputs": [
    {
     "data": {
      "text/plain": [
       "35.16129032258065"
      ]
     },
     "execution_count": 29,
     "metadata": {},
     "output_type": "execute_result"
    }
   ],
   "source": [
    "c = np.mean(y) - m* np.mean(x)\n",
    "c\n"
   ]
  },
  {
   "cell_type": "code",
   "execution_count": 35,
   "id": "af98e83f-7c55-4ad7-a8d9-949c21395743",
   "metadata": {},
   "outputs": [
    {
     "name": "stdout",
     "output_type": "stream",
     "text": [
      "50.89\n"
     ]
    }
   ],
   "source": [
    "x_val = 6\n",
    "Y_pred = m*x_val+c\n",
    "Y_pred\n",
    "print(round(Y_pred,2))"
   ]
  },
  {
   "cell_type": "code",
   "execution_count": 39,
   "id": "999600de-ae61-42eb-bc62-e17123dcae56",
   "metadata": {},
   "outputs": [
    {
     "data": {
      "text/html": [
       "<div>\n",
       "<style scoped>\n",
       "    .dataframe tbody tr th:only-of-type {\n",
       "        vertical-align: middle;\n",
       "    }\n",
       "\n",
       "    .dataframe tbody tr th {\n",
       "        vertical-align: top;\n",
       "    }\n",
       "\n",
       "    .dataframe thead th {\n",
       "        text-align: right;\n",
       "    }\n",
       "</style>\n",
       "<table border=\"1\" class=\"dataframe\">\n",
       "  <thead>\n",
       "    <tr style=\"text-align: right;\">\n",
       "      <th></th>\n",
       "      <th>x</th>\n",
       "      <th>y</th>\n",
       "      <th>Y_pred</th>\n",
       "    </tr>\n",
       "  </thead>\n",
       "  <tbody>\n",
       "    <tr>\n",
       "      <th>0</th>\n",
       "      <td>2</td>\n",
       "      <td>35</td>\n",
       "      <td>40.40</td>\n",
       "    </tr>\n",
       "    <tr>\n",
       "      <th>1</th>\n",
       "      <td>4</td>\n",
       "      <td>60</td>\n",
       "      <td>45.65</td>\n",
       "    </tr>\n",
       "    <tr>\n",
       "      <th>2</th>\n",
       "      <td>5</td>\n",
       "      <td>20</td>\n",
       "      <td>48.27</td>\n",
       "    </tr>\n",
       "    <tr>\n",
       "      <th>3</th>\n",
       "      <td>3</td>\n",
       "      <td>50</td>\n",
       "      <td>43.02</td>\n",
       "    </tr>\n",
       "    <tr>\n",
       "      <th>4</th>\n",
       "      <td>6</td>\n",
       "      <td>50</td>\n",
       "      <td>50.89</td>\n",
       "    </tr>\n",
       "    <tr>\n",
       "      <th>5</th>\n",
       "      <td>5</td>\n",
       "      <td>55</td>\n",
       "      <td>48.27</td>\n",
       "    </tr>\n",
       "    <tr>\n",
       "      <th>6</th>\n",
       "      <td>7</td>\n",
       "      <td>60</td>\n",
       "      <td>53.51</td>\n",
       "    </tr>\n",
       "  </tbody>\n",
       "</table>\n",
       "</div>"
      ],
      "text/plain": [
       "   x   y  Y_pred\n",
       "0  2  35   40.40\n",
       "1  4  60   45.65\n",
       "2  5  20   48.27\n",
       "3  3  50   43.02\n",
       "4  6  50   50.89\n",
       "5  5  55   48.27\n",
       "6  7  60   53.51"
      ]
     },
     "execution_count": 39,
     "metadata": {},
     "output_type": "execute_result"
    }
   ],
   "source": [
    "df['Y_pred'] = round(df['x']*m+c,2)\n",
    "df"
   ]
  },
  {
   "cell_type": "code",
   "execution_count": null,
   "id": "14005fbc-a63f-484c-b259-035bd810c922",
   "metadata": {},
   "outputs": [],
   "source": [
    "#/*Task-02*/"
   ]
  },
  {
   "cell_type": "code",
   "execution_count": 41,
   "id": "7091f3b2-8c53-4657-b0f4-0af82d1873e3",
   "metadata": {},
   "outputs": [
    {
     "data": {
      "text/html": [
       "<div>\n",
       "<style scoped>\n",
       "    .dataframe tbody tr th:only-of-type {\n",
       "        vertical-align: middle;\n",
       "    }\n",
       "\n",
       "    .dataframe tbody tr th {\n",
       "        vertical-align: top;\n",
       "    }\n",
       "\n",
       "    .dataframe thead th {\n",
       "        text-align: right;\n",
       "    }\n",
       "</style>\n",
       "<table border=\"1\" class=\"dataframe\">\n",
       "  <thead>\n",
       "    <tr style=\"text-align: right;\">\n",
       "      <th></th>\n",
       "      <th>x</th>\n",
       "      <th>y</th>\n",
       "      <th>Y_pred</th>\n",
       "      <th>residuals</th>\n",
       "    </tr>\n",
       "  </thead>\n",
       "  <tbody>\n",
       "    <tr>\n",
       "      <th>0</th>\n",
       "      <td>2</td>\n",
       "      <td>35</td>\n",
       "      <td>40.40</td>\n",
       "      <td>5.40</td>\n",
       "    </tr>\n",
       "    <tr>\n",
       "      <th>1</th>\n",
       "      <td>4</td>\n",
       "      <td>60</td>\n",
       "      <td>45.65</td>\n",
       "      <td>-14.35</td>\n",
       "    </tr>\n",
       "    <tr>\n",
       "      <th>2</th>\n",
       "      <td>5</td>\n",
       "      <td>20</td>\n",
       "      <td>48.27</td>\n",
       "      <td>28.27</td>\n",
       "    </tr>\n",
       "    <tr>\n",
       "      <th>3</th>\n",
       "      <td>3</td>\n",
       "      <td>50</td>\n",
       "      <td>43.02</td>\n",
       "      <td>-6.98</td>\n",
       "    </tr>\n",
       "    <tr>\n",
       "      <th>4</th>\n",
       "      <td>6</td>\n",
       "      <td>50</td>\n",
       "      <td>50.89</td>\n",
       "      <td>0.89</td>\n",
       "    </tr>\n",
       "    <tr>\n",
       "      <th>5</th>\n",
       "      <td>5</td>\n",
       "      <td>55</td>\n",
       "      <td>48.27</td>\n",
       "      <td>-6.73</td>\n",
       "    </tr>\n",
       "    <tr>\n",
       "      <th>6</th>\n",
       "      <td>7</td>\n",
       "      <td>60</td>\n",
       "      <td>53.51</td>\n",
       "      <td>-6.49</td>\n",
       "    </tr>\n",
       "  </tbody>\n",
       "</table>\n",
       "</div>"
      ],
      "text/plain": [
       "   x   y  Y_pred  residuals\n",
       "0  2  35   40.40       5.40\n",
       "1  4  60   45.65     -14.35\n",
       "2  5  20   48.27      28.27\n",
       "3  3  50   43.02      -6.98\n",
       "4  6  50   50.89       0.89\n",
       "5  5  55   48.27      -6.73\n",
       "6  7  60   53.51      -6.49"
      ]
     },
     "execution_count": 41,
     "metadata": {},
     "output_type": "execute_result"
    }
   ],
   "source": [
    "df['residuals'] = df['Y_pred'] - df['y']\n",
    "df"
   ]
  },
  {
   "cell_type": "code",
   "execution_count": null,
   "id": "5cf7de5a-9b78-4ce5-816b-eda81ad11c3a",
   "metadata": {},
   "outputs": [],
   "source": [
    "#/*Task-03*/"
   ]
  },
  {
   "cell_type": "code",
   "execution_count": 47,
   "id": "d157acb2-deba-4bd5-afbc-6f83b4b18776",
   "metadata": {},
   "outputs": [
    {
     "name": "stdout",
     "output_type": "stream",
     "text": [
      "167.31\n"
     ]
    }
   ],
   "source": [
    "#MSE\n",
    "MSE = np.sum((df['y'] - df['Y_pred'])**2)/n\n",
    "print(round(MSE,2))"
   ]
  },
  {
   "cell_type": "code",
   "execution_count": 51,
   "id": "7ed53c04-ecfc-4dff-9042-2002edf8b51b",
   "metadata": {},
   "outputs": [
    {
     "name": "stdout",
     "output_type": "stream",
     "text": [
      "9.87\n"
     ]
    }
   ],
   "source": [
    "#MAE\n",
    "MSE = np.sum((df['y'] - df['Y_pred']).abs())/n\n",
    "print(round(MSE,2))\n"
   ]
  },
  {
   "cell_type": "code",
   "execution_count": null,
   "id": "bba32b50-1028-4c31-804c-de2ead175866",
   "metadata": {},
   "outputs": [],
   "source": [
    "#/*Task-04*/"
   ]
  },
  {
   "cell_type": "code",
   "execution_count": 55,
   "id": "23ff7371-dec2-4dbf-9e71-0e938e64ee82",
   "metadata": {},
   "outputs": [
    {
     "data": {
      "text/html": [
       "<div>\n",
       "<style scoped>\n",
       "    .dataframe tbody tr th:only-of-type {\n",
       "        vertical-align: middle;\n",
       "    }\n",
       "\n",
       "    .dataframe tbody tr th {\n",
       "        vertical-align: top;\n",
       "    }\n",
       "\n",
       "    .dataframe thead th {\n",
       "        text-align: right;\n",
       "    }\n",
       "</style>\n",
       "<table border=\"1\" class=\"dataframe\">\n",
       "  <thead>\n",
       "    <tr style=\"text-align: right;\">\n",
       "      <th></th>\n",
       "      <th>x</th>\n",
       "      <th>y</th>\n",
       "      <th>Y_pred</th>\n",
       "      <th>residuals</th>\n",
       "      <th>MSE</th>\n",
       "    </tr>\n",
       "  </thead>\n",
       "  <tbody>\n",
       "    <tr>\n",
       "      <th>0</th>\n",
       "      <td>2</td>\n",
       "      <td>35</td>\n",
       "      <td>40.40</td>\n",
       "      <td>5.40</td>\n",
       "      <td>4.17</td>\n",
       "    </tr>\n",
       "    <tr>\n",
       "      <th>1</th>\n",
       "      <td>4</td>\n",
       "      <td>60</td>\n",
       "      <td>45.65</td>\n",
       "      <td>-14.35</td>\n",
       "      <td>29.42</td>\n",
       "    </tr>\n",
       "    <tr>\n",
       "      <th>2</th>\n",
       "      <td>5</td>\n",
       "      <td>20</td>\n",
       "      <td>48.27</td>\n",
       "      <td>28.27</td>\n",
       "      <td>114.17</td>\n",
       "    </tr>\n",
       "    <tr>\n",
       "      <th>3</th>\n",
       "      <td>3</td>\n",
       "      <td>50</td>\n",
       "      <td>43.02</td>\n",
       "      <td>-6.98</td>\n",
       "      <td>6.96</td>\n",
       "    </tr>\n",
       "    <tr>\n",
       "      <th>4</th>\n",
       "      <td>6</td>\n",
       "      <td>50</td>\n",
       "      <td>50.89</td>\n",
       "      <td>0.89</td>\n",
       "      <td>0.11</td>\n",
       "    </tr>\n",
       "    <tr>\n",
       "      <th>5</th>\n",
       "      <td>5</td>\n",
       "      <td>55</td>\n",
       "      <td>48.27</td>\n",
       "      <td>-6.73</td>\n",
       "      <td>6.47</td>\n",
       "    </tr>\n",
       "    <tr>\n",
       "      <th>6</th>\n",
       "      <td>7</td>\n",
       "      <td>60</td>\n",
       "      <td>53.51</td>\n",
       "      <td>-6.49</td>\n",
       "      <td>6.02</td>\n",
       "    </tr>\n",
       "  </tbody>\n",
       "</table>\n",
       "</div>"
      ],
      "text/plain": [
       "   x   y  Y_pred  residuals     MSE\n",
       "0  2  35   40.40       5.40    4.17\n",
       "1  4  60   45.65     -14.35   29.42\n",
       "2  5  20   48.27      28.27  114.17\n",
       "3  3  50   43.02      -6.98    6.96\n",
       "4  6  50   50.89       0.89    0.11\n",
       "5  5  55   48.27      -6.73    6.47\n",
       "6  7  60   53.51      -6.49    6.02"
      ]
     },
     "execution_count": 55,
     "metadata": {},
     "output_type": "execute_result"
    }
   ],
   "source": [
    "df['MSE'] = round(((df['y'] - df['Y_pred'])**2)/n,2)\n",
    "df"
   ]
  },
  {
   "cell_type": "code",
   "execution_count": 59,
   "id": "a0a6eaa9-37e9-495d-a74c-11234d3b690e",
   "metadata": {},
   "outputs": [
    {
     "data": {
      "text/html": [
       "<div>\n",
       "<style scoped>\n",
       "    .dataframe tbody tr th:only-of-type {\n",
       "        vertical-align: middle;\n",
       "    }\n",
       "\n",
       "    .dataframe tbody tr th {\n",
       "        vertical-align: top;\n",
       "    }\n",
       "\n",
       "    .dataframe thead th {\n",
       "        text-align: right;\n",
       "    }\n",
       "</style>\n",
       "<table border=\"1\" class=\"dataframe\">\n",
       "  <thead>\n",
       "    <tr style=\"text-align: right;\">\n",
       "      <th></th>\n",
       "      <th>x</th>\n",
       "      <th>y</th>\n",
       "      <th>Y_pred</th>\n",
       "      <th>residuals</th>\n",
       "      <th>MSE</th>\n",
       "      <th>MAE</th>\n",
       "    </tr>\n",
       "  </thead>\n",
       "  <tbody>\n",
       "    <tr>\n",
       "      <th>0</th>\n",
       "      <td>2</td>\n",
       "      <td>35</td>\n",
       "      <td>40.40</td>\n",
       "      <td>5.40</td>\n",
       "      <td>4.17</td>\n",
       "      <td>0.77</td>\n",
       "    </tr>\n",
       "    <tr>\n",
       "      <th>1</th>\n",
       "      <td>4</td>\n",
       "      <td>60</td>\n",
       "      <td>45.65</td>\n",
       "      <td>-14.35</td>\n",
       "      <td>29.42</td>\n",
       "      <td>2.05</td>\n",
       "    </tr>\n",
       "    <tr>\n",
       "      <th>2</th>\n",
       "      <td>5</td>\n",
       "      <td>20</td>\n",
       "      <td>48.27</td>\n",
       "      <td>28.27</td>\n",
       "      <td>114.17</td>\n",
       "      <td>4.04</td>\n",
       "    </tr>\n",
       "    <tr>\n",
       "      <th>3</th>\n",
       "      <td>3</td>\n",
       "      <td>50</td>\n",
       "      <td>43.02</td>\n",
       "      <td>-6.98</td>\n",
       "      <td>6.96</td>\n",
       "      <td>1.00</td>\n",
       "    </tr>\n",
       "    <tr>\n",
       "      <th>4</th>\n",
       "      <td>6</td>\n",
       "      <td>50</td>\n",
       "      <td>50.89</td>\n",
       "      <td>0.89</td>\n",
       "      <td>0.11</td>\n",
       "      <td>0.13</td>\n",
       "    </tr>\n",
       "    <tr>\n",
       "      <th>5</th>\n",
       "      <td>5</td>\n",
       "      <td>55</td>\n",
       "      <td>48.27</td>\n",
       "      <td>-6.73</td>\n",
       "      <td>6.47</td>\n",
       "      <td>0.96</td>\n",
       "    </tr>\n",
       "    <tr>\n",
       "      <th>6</th>\n",
       "      <td>7</td>\n",
       "      <td>60</td>\n",
       "      <td>53.51</td>\n",
       "      <td>-6.49</td>\n",
       "      <td>6.02</td>\n",
       "      <td>0.93</td>\n",
       "    </tr>\n",
       "  </tbody>\n",
       "</table>\n",
       "</div>"
      ],
      "text/plain": [
       "   x   y  Y_pred  residuals     MSE   MAE\n",
       "0  2  35   40.40       5.40    4.17  0.77\n",
       "1  4  60   45.65     -14.35   29.42  2.05\n",
       "2  5  20   48.27      28.27  114.17  4.04\n",
       "3  3  50   43.02      -6.98    6.96  1.00\n",
       "4  6  50   50.89       0.89    0.11  0.13\n",
       "5  5  55   48.27      -6.73    6.47  0.96\n",
       "6  7  60   53.51      -6.49    6.02  0.93"
      ]
     },
     "execution_count": 59,
     "metadata": {},
     "output_type": "execute_result"
    }
   ],
   "source": [
    "df['MAE'] = round(((df['y'] - df['Y_pred']).abs())/n,2)\n",
    "df"
   ]
  },
  {
   "cell_type": "code",
   "execution_count": 63,
   "id": "5d68f21e-a599-4211-990f-5d6904f1e92b",
   "metadata": {},
   "outputs": [
    {
     "data": {
      "text/html": [
       "<div>\n",
       "<style scoped>\n",
       "    .dataframe tbody tr th:only-of-type {\n",
       "        vertical-align: middle;\n",
       "    }\n",
       "\n",
       "    .dataframe tbody tr th {\n",
       "        vertical-align: top;\n",
       "    }\n",
       "\n",
       "    .dataframe thead th {\n",
       "        text-align: right;\n",
       "    }\n",
       "</style>\n",
       "<table border=\"1\" class=\"dataframe\">\n",
       "  <thead>\n",
       "    <tr style=\"text-align: right;\">\n",
       "      <th></th>\n",
       "      <th>x</th>\n",
       "      <th>y</th>\n",
       "      <th>Y_pred</th>\n",
       "      <th>residuals</th>\n",
       "      <th>MSE</th>\n",
       "      <th>MAE</th>\n",
       "    </tr>\n",
       "  </thead>\n",
       "  <tbody>\n",
       "    <tr>\n",
       "      <th>0</th>\n",
       "      <td>2</td>\n",
       "      <td>35</td>\n",
       "      <td>40.40</td>\n",
       "      <td>5.40</td>\n",
       "      <td>4.17</td>\n",
       "      <td>0.77</td>\n",
       "    </tr>\n",
       "    <tr>\n",
       "      <th>1</th>\n",
       "      <td>4</td>\n",
       "      <td>60</td>\n",
       "      <td>45.65</td>\n",
       "      <td>-14.35</td>\n",
       "      <td>29.42</td>\n",
       "      <td>2.05</td>\n",
       "    </tr>\n",
       "    <tr>\n",
       "      <th>2</th>\n",
       "      <td>5</td>\n",
       "      <td>20</td>\n",
       "      <td>48.27</td>\n",
       "      <td>28.27</td>\n",
       "      <td>114.17</td>\n",
       "      <td>4.04</td>\n",
       "    </tr>\n",
       "    <tr>\n",
       "      <th>3</th>\n",
       "      <td>3</td>\n",
       "      <td>50</td>\n",
       "      <td>43.02</td>\n",
       "      <td>-6.98</td>\n",
       "      <td>6.96</td>\n",
       "      <td>1.00</td>\n",
       "    </tr>\n",
       "    <tr>\n",
       "      <th>4</th>\n",
       "      <td>6</td>\n",
       "      <td>50</td>\n",
       "      <td>50.89</td>\n",
       "      <td>0.89</td>\n",
       "      <td>0.11</td>\n",
       "      <td>0.13</td>\n",
       "    </tr>\n",
       "    <tr>\n",
       "      <th>5</th>\n",
       "      <td>5</td>\n",
       "      <td>55</td>\n",
       "      <td>48.27</td>\n",
       "      <td>-6.73</td>\n",
       "      <td>6.47</td>\n",
       "      <td>0.96</td>\n",
       "    </tr>\n",
       "    <tr>\n",
       "      <th>6</th>\n",
       "      <td>7</td>\n",
       "      <td>60</td>\n",
       "      <td>53.51</td>\n",
       "      <td>-6.49</td>\n",
       "      <td>6.02</td>\n",
       "      <td>0.93</td>\n",
       "    </tr>\n",
       "  </tbody>\n",
       "</table>\n",
       "</div>"
      ],
      "text/plain": [
       "   x   y  Y_pred  residuals     MSE   MAE\n",
       "0  2  35   40.40       5.40    4.17  0.77\n",
       "1  4  60   45.65     -14.35   29.42  2.05\n",
       "2  5  20   48.27      28.27  114.17  4.04\n",
       "3  3  50   43.02      -6.98    6.96  1.00\n",
       "4  6  50   50.89       0.89    0.11  0.13\n",
       "5  5  55   48.27      -6.73    6.47  0.96\n",
       "6  7  60   53.51      -6.49    6.02  0.93"
      ]
     },
     "execution_count": 63,
     "metadata": {},
     "output_type": "execute_result"
    }
   ],
   "source": [
    "df.to_excel(\"MyData.xlsx\")\n",
    "df"
   ]
  },
  {
   "cell_type": "code",
   "execution_count": null,
   "id": "19bf7def-46bf-44be-8aa2-6f77615ea733",
   "metadata": {},
   "outputs": [],
   "source": []
  }
 ],
 "metadata": {
  "kernelspec": {
   "display_name": "Python 3 (ipykernel)",
   "language": "python",
   "name": "python3"
  },
  "language_info": {
   "codemirror_mode": {
    "name": "ipython",
    "version": 3
   },
   "file_extension": ".py",
   "mimetype": "text/x-python",
   "name": "python",
   "nbconvert_exporter": "python",
   "pygments_lexer": "ipython3",
   "version": "3.12.4"
  }
 },
 "nbformat": 4,
 "nbformat_minor": 5
}
